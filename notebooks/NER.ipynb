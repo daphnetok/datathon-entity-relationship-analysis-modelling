{
 "cells": [
  {
   "cell_type": "code",
   "execution_count": 1,
   "id": "f6e3fad5",
   "metadata": {},
   "outputs": [],
   "source": [
    "import pandas as pd\n",
    "\n",
    "#ML\n",
    "import spacy\n",
    "# from sklearn.model_selection import train_test_split\n",
    "# from sklearn.feature_extraction.text import TfidfVectorizer\n",
    "# from sklearn.linear_model import LogisticRegression\n",
    "# from sklearn.metrics import classification_report\n",
    "# from transformers import pipeline\n",
    "\n",
    "#vis\n",
    "import matplotlib.pyplot as plt"
   ]
  },
  {
   "cell_type": "code",
   "execution_count": 2,
   "id": "0e0389b1",
   "metadata": {},
   "outputs": [],
   "source": [
    "nlp = spacy.load(\"en_core_web_lg\")"
   ]
  },
  {
   "cell_type": "code",
   "execution_count": 3,
   "id": "47f93d70",
   "metadata": {},
   "outputs": [],
   "source": [
    "# # Load SpaCy's English model\n",
    "# nlp = spacy.load(\"en_core_web_sm\")"
   ]
  },
  {
   "cell_type": "code",
   "execution_count": 4,
   "id": "42565fc3",
   "metadata": {},
   "outputs": [
    {
     "name": "stdout",
     "output_type": "stream",
     "text": [
      "                                                Link  \\\n",
      "0  https://edition.cnn.com/2023/09/29/business/st...   \n",
      "1  https://www.channelnewsasia.com/singapore/su-w...   \n",
      "2  https://edition.cnn.com/2023/05/22/tech/meta-f...   \n",
      "3  https://www.channelnewsasia.com/singapore/bill...   \n",
      "4  https://edition.cnn.com/2024/03/05/politics/li...   \n",
      "\n",
      "                                                Text  \\\n",
      "0  Starbucks violated federal labor law when it i...   \n",
      "1  The first suspect to plead guilty in Singapore...   \n",
      "2  Meta has been fined a record-breaking €1.2 bil...   \n",
      "3  SINGAPORE: A 45-year-old man linked to Singapo...   \n",
      "4  The Department of Education imposed a record $...   \n",
      "\n",
      "                      key_figures  \\\n",
      "0                              []   \n",
      "1    ['3 billion', '2.2 billion']   \n",
      "2  ['1.2 billion', '1.3 billion']   \n",
      "3  ['118 million', '131 million']   \n",
      "4     ['14 million', '2 million']   \n",
      "\n",
      "                                      cleaned_tokens  \n",
      "0  ['starbucks', 'violate', 'federal', 'labor', '...  \n",
      "1  ['first', 'suspect', 'plead', 'guilty', 'singa...  \n",
      "2  ['meta', 'fin', 'record', 'break', 'billion', ...  \n",
      "3  ['singapore', 'year', 'old', 'man', 'link', 's...  \n",
      "4  ['department', 'education', 'impose', 'record'...  \n",
      "<class 'pandas.core.frame.DataFrame'>\n",
      "RangeIndex: 1509 entries, 0 to 1508\n",
      "Data columns (total 4 columns):\n",
      " #   Column          Non-Null Count  Dtype \n",
      "---  ------          --------------  ----- \n",
      " 0   Link            1509 non-null   object\n",
      " 1   Text            1509 non-null   object\n",
      " 2   key_figures     1509 non-null   object\n",
      " 3   cleaned_tokens  1509 non-null   object\n",
      "dtypes: object(4)\n",
      "memory usage: 47.3+ KB\n",
      "None\n"
     ]
    }
   ],
   "source": [
    "# Load Data\n",
    "news_df = pd.read_csv('../data/processed/news_excerpts_cleaned.csv')\n",
    "# news_df = pd.read_csv('../data/raw/news_excerpts_parsed.csv')\n",
    "\n",
    "# Check data structure\n",
    "print(news_df.head())\n",
    "print(news_df.info())"
   ]
  },
  {
   "cell_type": "code",
   "execution_count": 5,
   "id": "cd688ec0",
   "metadata": {},
   "outputs": [
    {
     "name": "stdout",
     "output_type": "stream",
     "text": [
      "                                                Text  \\\n",
      "0  Starbucks violated federal labor law when it i...   \n",
      "1  The first suspect to plead guilty in Singapore...   \n",
      "2  Meta has been fined a record-breaking €1.2 bil...   \n",
      "3  SINGAPORE: A 45-year-old man linked to Singapo...   \n",
      "4  The Department of Education imposed a record $...   \n",
      "\n",
      "                                      named_entities  \n",
      "0  [(Starbucks, ORG), (National Labor Relations B...  \n",
      "1  [(first, ORDINAL), (Singapore, GPE), (13 month...  \n",
      "2  [(Meta, ORG), (€1.2 billion, MONEY), ($1.3 bil...  \n",
      "3  [(SINGAPORE, GPE), (45-year-old, DATE), (Singa...  \n",
      "4  [(The Department of Education, ORG), ($14 mill...  \n"
     ]
    }
   ],
   "source": [
    "### Step 1: Named Entity Recognition (NER)\n",
    "def extract_named_entities(text):\n",
    "    \"\"\"Extract named entities from text using SpaCy.\"\"\"\n",
    "    doc = nlp(text)\n",
    "    entities = []\n",
    "    for ent in doc.ents:\n",
    "        entities.append((ent.text, ent.label_))\n",
    "    return entities\n",
    "\n",
    "# Apply NER to extract named entities\n",
    "news_df['named_entities'] = news_df['Text'].apply(lambda x: extract_named_entities(str(x)))\n",
    "\n",
    "# Display results\n",
    "print(news_df[['Text', 'named_entities']].head())"
   ]
  },
  {
   "cell_type": "code",
   "execution_count": 6,
   "id": "3a85499e",
   "metadata": {},
   "outputs": [],
   "source": [
    "# NETWORK GRAPH - visualise r/s betw entities\n",
    "# Function to build a network graph of entities and their relationships\n",
    "def build_entity_graph(text):\n",
    "    doc = nlp(text)\n",
    "    graph = nx.Graph()\n",
    "\n",
    "    # Add entities as nodes\n",
    "    for ent in doc.ents:\n",
    "        graph.add_node(ent.text, label=ent.label_)\n",
    "\n",
    "    # Add relationships between entities\n",
    "    for sent in doc.sents:\n",
    "        entities_in_sent = [ent.text for ent in sent.ents]\n",
    "        for i in range(len(entities_in_sent)):\n",
    "            for j in range(i + 1, len(entities_in_sent)):\n",
    "                graph.add_edge(entities_in_sent[i], entities_in_sent[j])\n",
    "\n",
    "    return graph"
   ]
  },
  {
   "cell_type": "code",
   "execution_count": 7,
   "id": "96504c38",
   "metadata": {},
   "outputs": [],
   "source": [
    "# Prep data for network graph\n",
    "NER_data = \" \".join(news_df['named_entities'].astype(str))"
   ]
  },
  {
   "cell_type": "code",
   "execution_count": 8,
   "id": "f5f75081",
   "metadata": {},
   "outputs": [
    {
     "ename": "NameError",
     "evalue": "name 'nx' is not defined",
     "output_type": "error",
     "traceback": [
      "\u001b[1;31m---------------------------------------------------------------------------\u001b[0m",
      "\u001b[1;31mNameError\u001b[0m                                 Traceback (most recent call last)",
      "\u001b[1;32m~\\AppData\\Local\\Temp\\ipykernel_8056\\1735402489.py\u001b[0m in \u001b[0;36m<cell line: 2>\u001b[1;34m()\u001b[0m\n\u001b[0;32m      1\u001b[0m \u001b[1;31m# Build and visualize the network graph for the news excerpt\u001b[0m\u001b[1;33m\u001b[0m\u001b[1;33m\u001b[0m\u001b[0m\n\u001b[1;32m----> 2\u001b[1;33m \u001b[0mnews_graph\u001b[0m \u001b[1;33m=\u001b[0m \u001b[0mbuild_entity_graph\u001b[0m\u001b[1;33m(\u001b[0m\u001b[0mNER_data\u001b[0m\u001b[1;33m)\u001b[0m\u001b[1;33m\u001b[0m\u001b[1;33m\u001b[0m\u001b[0m\n\u001b[0m\u001b[0;32m      3\u001b[0m \u001b[0mplt\u001b[0m\u001b[1;33m.\u001b[0m\u001b[0mfigure\u001b[0m\u001b[1;33m(\u001b[0m\u001b[0mfigsize\u001b[0m\u001b[1;33m=\u001b[0m\u001b[1;33m(\u001b[0m\u001b[1;36m12\u001b[0m\u001b[1;33m,\u001b[0m \u001b[1;36m10\u001b[0m\u001b[1;33m)\u001b[0m\u001b[1;33m)\u001b[0m\u001b[1;33m\u001b[0m\u001b[1;33m\u001b[0m\u001b[0m\n\u001b[0;32m      4\u001b[0m \u001b[0mpos\u001b[0m \u001b[1;33m=\u001b[0m \u001b[0mnx\u001b[0m\u001b[1;33m.\u001b[0m\u001b[0mspring_layout\u001b[0m\u001b[1;33m(\u001b[0m\u001b[0mnews_graph\u001b[0m\u001b[1;33m,\u001b[0m \u001b[0mseed\u001b[0m\u001b[1;33m=\u001b[0m\u001b[1;36m42\u001b[0m\u001b[1;33m)\u001b[0m\u001b[1;33m\u001b[0m\u001b[1;33m\u001b[0m\u001b[0m\n\u001b[0;32m      5\u001b[0m \u001b[0mnx\u001b[0m\u001b[1;33m.\u001b[0m\u001b[0mdraw\u001b[0m\u001b[1;33m(\u001b[0m\u001b[0mnews_graph\u001b[0m\u001b[1;33m,\u001b[0m \u001b[0mpos\u001b[0m\u001b[1;33m,\u001b[0m \u001b[0mwith_labels\u001b[0m\u001b[1;33m=\u001b[0m\u001b[1;32mTrue\u001b[0m\u001b[1;33m,\u001b[0m \u001b[0mnode_color\u001b[0m\u001b[1;33m=\u001b[0m\u001b[1;34m\"lightblue\"\u001b[0m\u001b[1;33m,\u001b[0m \u001b[0medge_color\u001b[0m\u001b[1;33m=\u001b[0m\u001b[1;34m\"gray\"\u001b[0m\u001b[1;33m,\u001b[0m \u001b[0mfont_size\u001b[0m\u001b[1;33m=\u001b[0m\u001b[1;36m10\u001b[0m\u001b[1;33m,\u001b[0m \u001b[0mnode_size\u001b[0m\u001b[1;33m=\u001b[0m\u001b[1;36m2000\u001b[0m\u001b[1;33m)\u001b[0m\u001b[1;33m\u001b[0m\u001b[1;33m\u001b[0m\u001b[0m\n",
      "\u001b[1;32m~\\AppData\\Local\\Temp\\ipykernel_8056\\3206879664.py\u001b[0m in \u001b[0;36mbuild_entity_graph\u001b[1;34m(text)\u001b[0m\n\u001b[0;32m      3\u001b[0m \u001b[1;32mdef\u001b[0m \u001b[0mbuild_entity_graph\u001b[0m\u001b[1;33m(\u001b[0m\u001b[0mtext\u001b[0m\u001b[1;33m)\u001b[0m\u001b[1;33m:\u001b[0m\u001b[1;33m\u001b[0m\u001b[1;33m\u001b[0m\u001b[0m\n\u001b[0;32m      4\u001b[0m     \u001b[0mdoc\u001b[0m \u001b[1;33m=\u001b[0m \u001b[0mnlp\u001b[0m\u001b[1;33m(\u001b[0m\u001b[0mtext\u001b[0m\u001b[1;33m)\u001b[0m\u001b[1;33m\u001b[0m\u001b[1;33m\u001b[0m\u001b[0m\n\u001b[1;32m----> 5\u001b[1;33m     \u001b[0mgraph\u001b[0m \u001b[1;33m=\u001b[0m \u001b[0mnx\u001b[0m\u001b[1;33m.\u001b[0m\u001b[0mGraph\u001b[0m\u001b[1;33m(\u001b[0m\u001b[1;33m)\u001b[0m\u001b[1;33m\u001b[0m\u001b[1;33m\u001b[0m\u001b[0m\n\u001b[0m\u001b[0;32m      6\u001b[0m \u001b[1;33m\u001b[0m\u001b[0m\n\u001b[0;32m      7\u001b[0m     \u001b[1;31m# Add entities as nodes\u001b[0m\u001b[1;33m\u001b[0m\u001b[1;33m\u001b[0m\u001b[0m\n",
      "\u001b[1;31mNameError\u001b[0m: name 'nx' is not defined"
     ]
    }
   ],
   "source": [
    "# Build and visualize the network graph for the news excerpt\n",
    "news_graph = build_entity_graph(NER_data)\n",
    "plt.figure(figsize=(12, 10))\n",
    "pos = nx.spring_layout(news_graph, seed=42)\n",
    "nx.draw(news_graph, pos, with_labels=True, node_color=\"lightblue\", edge_color=\"gray\", font_size=10, node_size=2000)\n",
    "plt.title(\"Network Graph of Entities in News Excerpts\")\n",
    "plt.axis(\"off\")  # Turn off the axis\n",
    "plt.show()"
   ]
  },
  {
   "cell_type": "code",
   "execution_count": 9,
   "id": "10cba176",
   "metadata": {},
   "outputs": [
    {
     "name": "stdout",
     "output_type": "stream",
     "text": [
      "\n",
      "Cleaned data saved to: ../data/processed/news_excerpts_NER_cleaned.csv\n"
     ]
    }
   ],
   "source": [
    "# Save the NER data to a new CSV\n",
    "output_path = '../data/processed/news_excerpts_NER_cleaned.csv'\n",
    "news_df.to_csv(output_path, index=False)\n",
    "print(f\"\\nCleaned data saved to: {output_path}\")"
   ]
  },
  {
   "cell_type": "code",
   "execution_count": null,
   "id": "bd34fbe4",
   "metadata": {},
   "outputs": [],
   "source": []
  }
 ],
 "metadata": {
  "kernelspec": {
   "display_name": "Python 3 (ipykernel)",
   "language": "python",
   "name": "python3"
  },
  "language_info": {
   "codemirror_mode": {
    "name": "ipython",
    "version": 3
   },
   "file_extension": ".py",
   "mimetype": "text/x-python",
   "name": "python",
   "nbconvert_exporter": "python",
   "pygments_lexer": "ipython3",
   "version": "3.10.11"
  }
 },
 "nbformat": 4,
 "nbformat_minor": 5
}
